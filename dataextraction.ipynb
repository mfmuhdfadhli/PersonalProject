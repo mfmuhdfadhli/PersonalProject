{
 "cells": [
  {
   "cell_type": "code",
   "execution_count": 4,
   "metadata": {},
   "outputs": [
    {
     "name": "stdout",
     "output_type": "stream",
     "text": [
      "Requirement already satisfied: pandas in c:\\users\\user\\miniconda3\\lib\\site-packages (2.2.2)\n",
      "Requirement already satisfied: numpy>=1.22.4 in c:\\users\\user\\miniconda3\\lib\\site-packages (from pandas) (1.26.4)\n",
      "Requirement already satisfied: python-dateutil>=2.8.2 in c:\\users\\user\\miniconda3\\lib\\site-packages (from pandas) (2.8.2)\n",
      "Requirement already satisfied: tzdata>=2022.7 in c:\\users\\user\\miniconda3\\lib\\site-packages (from pandas) (2024.1)\n",
      "Requirement already satisfied: pytz>=2020.1 in c:\\users\\user\\miniconda3\\lib\\site-packages (from pandas) (2022.7)\n",
      "Requirement already satisfied: six>=1.5 in c:\\users\\user\\miniconda3\\lib\\site-packages (from python-dateutil>=2.8.2->pandas) (1.16.0)\n",
      "Note: you may need to restart the kernel to use updated packages.\n"
     ]
    }
   ],
   "source": [
    "pip install pandas"
   ]
  },
  {
   "cell_type": "code",
   "execution_count": 6,
   "metadata": {},
   "outputs": [],
   "source": [
    "import pandas as pd"
   ]
  },
  {
   "cell_type": "code",
   "execution_count": 13,
   "metadata": {},
   "outputs": [],
   "source": [
    "# replace \\ (backslashes) with / (forward slashes) in file paths making them simpler and more readable\n",
    "df = pd.read_csv(\"C:/Users/user/OneDrive/Desktop/Python Script/Soccer-Stats-Premier-League-2023-2024_Final_20240610.csv\")"
   ]
  },
  {
   "cell_type": "code",
   "execution_count": 14,
   "metadata": {},
   "outputs": [
    {
     "name": "stdout",
     "output_type": "stream",
     "text": [
      "        Id            Name  Weight(kg)  Height(cm)   Age Citizenship  \\\n",
      "0     28.0  Erling Haaland        87.0       193.0  23.0      Norway   \n",
      "1     24.0     Cole Palmer        73.0       183.0  22.0     England   \n",
      "2    464.0  Alexander Isak        77.0       193.0  24.0      Sweden   \n",
      "3    423.0   Ollie Watkins        69.0       180.0  28.0     England   \n",
      "4     20.0      Phil Foden        69.0       170.0  23.0     England   \n",
      "..     ...             ...         ...         ...   ...         ...   \n",
      "887    NaN             NaN         NaN         NaN   NaN         NaN   \n",
      "888    NaN             NaN         NaN         NaN   NaN         NaN   \n",
      "889    NaN             NaN         NaN         NaN   NaN         NaN   \n",
      "890    NaN             NaN         NaN         NaN   NaN         NaN   \n",
      "891    NaN             NaN         NaN         NaN   NaN         NaN   \n",
      "\n",
      "                 Team  Jersey    Position  Total Play Time(min)  ...  \\\n",
      "0     Manchester City     9.0     Forward                2733.0  ...   \n",
      "1             Chelsea    20.0  Midfielder                2822.0  ...   \n",
      "2    Newcastle United    14.0     Forward                2399.0  ...   \n",
      "3         Aston Villa    11.0     Forward                3483.0  ...   \n",
      "4     Manchester City    47.0  Midfielder                3039.0  ...   \n",
      "..                ...     ...         ...                   ...  ...   \n",
      "887               NaN     NaN         NaN                   NaN  ...   \n",
      "888               NaN     NaN         NaN                   NaN  ...   \n",
      "889               NaN     NaN         NaN                   NaN  ...   \n",
      "890               NaN     NaN         NaN                   NaN  ...   \n",
      "891               NaN     NaN         NaN                   NaN  ...   \n",
      "\n",
      "     redCards  goalAssists  shotsOnTarget  totalShots  totalGoals  \\\n",
      "0         0.0          5.0           54.0       115.0        27.0   \n",
      "1         0.0         11.0           41.0       108.0        22.0   \n",
      "2         0.0          2.0           39.0        74.0        21.0   \n",
      "3         0.0         14.0           46.0       105.0        19.0   \n",
      "4         0.0          8.0           48.0        98.0        19.0   \n",
      "..        ...          ...            ...         ...         ...   \n",
      "887       NaN          NaN            NaN         NaN         NaN   \n",
      "888       NaN          NaN            NaN         NaN         NaN   \n",
      "889       NaN          NaN            NaN         NaN         NaN   \n",
      "890       NaN          NaN            NaN         NaN         NaN   \n",
      "891       NaN          NaN            NaN         NaN         NaN   \n",
      "\n",
      "     goalsConceded  shotsFaced  saves    Update Time  Unnamed: 27  \n",
      "0             24.0         0.0    0.0  5/20/24 16:23          NaN  \n",
      "1             43.0         0.0    0.0  5/20/24 16:23          NaN  \n",
      "2             40.0         0.0    0.0  5/20/24 16:23          NaN  \n",
      "3             52.0         0.0    0.0  5/20/24 16:23          NaN  \n",
      "4             26.0         0.0    0.0  5/20/24 16:23          NaN  \n",
      "..             ...         ...    ...            ...          ...  \n",
      "887            NaN         NaN    NaN            NaN          NaN  \n",
      "888            NaN         NaN    NaN            NaN          NaN  \n",
      "889            NaN         NaN    NaN            NaN          NaN  \n",
      "890            NaN         NaN    NaN            NaN          NaN  \n",
      "891            NaN         NaN    NaN            NaN          NaN  \n",
      "\n",
      "[892 rows x 28 columns]\n"
     ]
    }
   ],
   "source": [
    "print (df)"
   ]
  }
 ],
 "metadata": {
  "kernelspec": {
   "display_name": "base",
   "language": "python",
   "name": "python3"
  },
  "language_info": {
   "codemirror_mode": {
    "name": "ipython",
    "version": 3
   },
   "file_extension": ".py",
   "mimetype": "text/x-python",
   "name": "python",
   "nbconvert_exporter": "python",
   "pygments_lexer": "ipython3",
   "version": "3.10.10"
  }
 },
 "nbformat": 4,
 "nbformat_minor": 2
}
